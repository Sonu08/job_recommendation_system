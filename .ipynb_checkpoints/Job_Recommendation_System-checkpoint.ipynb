{
 "cells": [
  {
   "cell_type": "code",
   "execution_count": 1,
   "id": "50cb1295",
   "metadata": {},
   "outputs": [],
   "source": [
    "import numpy as np\n",
    "import pandas as pd\n",
    "import ast"
   ]
  },
  {
   "cell_type": "code",
   "execution_count": 2,
   "id": "f397180f",
   "metadata": {},
   "outputs": [],
   "source": [
    "job = pd.read_csv(\"GROUP_ASSIGNMENT_DATA.csv\")"
   ]
  },
  {
   "cell_type": "code",
   "execution_count": 6,
   "id": "66eaf8b8",
   "metadata": {},
   "outputs": [
    {
     "data": {
      "text/html": [
       "<div>\n",
       "<style scoped>\n",
       "    .dataframe tbody tr th:only-of-type {\n",
       "        vertical-align: middle;\n",
       "    }\n",
       "\n",
       "    .dataframe tbody tr th {\n",
       "        vertical-align: top;\n",
       "    }\n",
       "\n",
       "    .dataframe thead th {\n",
       "        text-align: right;\n",
       "    }\n",
       "</style>\n",
       "<table border=\"1\" class=\"dataframe\">\n",
       "  <thead>\n",
       "    <tr style=\"text-align: right;\">\n",
       "      <th></th>\n",
       "      <th>user ID</th>\n",
       "      <th>Name</th>\n",
       "      <th>Age</th>\n",
       "      <th>Gender</th>\n",
       "      <th>Academic Background</th>\n",
       "      <th>Field of Study</th>\n",
       "      <th>Skills</th>\n",
       "      <th>Industry_Interest</th>\n",
       "      <th>Job_Type_Interest</th>\n",
       "      <th>Location_Interest</th>\n",
       "      <th>Salary_Expectation_(in_USD)</th>\n",
       "      <th>desired_company</th>\n",
       "    </tr>\n",
       "  </thead>\n",
       "  <tbody>\n",
       "    <tr>\n",
       "      <th>0</th>\n",
       "      <td>986206.0</td>\n",
       "      <td>John Smith</td>\n",
       "      <td>28.0</td>\n",
       "      <td>Male+D43B100D2:D55</td>\n",
       "      <td>Bachelor's degree</td>\n",
       "      <td>Computer Science</td>\n",
       "      <td>Java, Python, Data Structures</td>\n",
       "      <td>Technology</td>\n",
       "      <td>Full-time</td>\n",
       "      <td>New York</td>\n",
       "      <td>65000.0</td>\n",
       "      <td>APPLE</td>\n",
       "    </tr>\n",
       "    <tr>\n",
       "      <th>1</th>\n",
       "      <td>769632.0</td>\n",
       "      <td>Jane Doe</td>\n",
       "      <td>42.0</td>\n",
       "      <td>Female</td>\n",
       "      <td>Master's degree</td>\n",
       "      <td>Business</td>\n",
       "      <td>Finance, Accounting, Microsoft Excel</td>\n",
       "      <td>Finance</td>\n",
       "      <td>Contract</td>\n",
       "      <td>London</td>\n",
       "      <td>85000.0</td>\n",
       "      <td>SAMSUNG</td>\n",
       "    </tr>\n",
       "    <tr>\n",
       "      <th>2</th>\n",
       "      <td>981314.0</td>\n",
       "      <td>David Lee</td>\n",
       "      <td>35.0</td>\n",
       "      <td>Male</td>\n",
       "      <td>bachelor\"s degree</td>\n",
       "      <td>NaN</td>\n",
       "      <td>Sales, Customer Service, Communication</td>\n",
       "      <td>Retail</td>\n",
       "      <td>Part-time</td>\n",
       "      <td>Chicago</td>\n",
       "      <td>30000.0</td>\n",
       "      <td>GOOGLE</td>\n",
       "    </tr>\n",
       "    <tr>\n",
       "      <th>3</th>\n",
       "      <td>962892.0</td>\n",
       "      <td>Sarah Johnson</td>\n",
       "      <td>27.0</td>\n",
       "      <td>Female</td>\n",
       "      <td>Associate's degree</td>\n",
       "      <td>Nursing</td>\n",
       "      <td>Patient Care, Medical Terminology</td>\n",
       "      <td>Healthcare</td>\n",
       "      <td>Full-time</td>\n",
       "      <td>Los Angeles</td>\n",
       "      <td>45000.0</td>\n",
       "      <td>MERCK &amp; CO</td>\n",
       "    </tr>\n",
       "    <tr>\n",
       "      <th>4</th>\n",
       "      <td>967782.0</td>\n",
       "      <td>Michael Williams</td>\n",
       "      <td>46.0</td>\n",
       "      <td>Male</td>\n",
       "      <td>Bachelor's degree</td>\n",
       "      <td>Marketing</td>\n",
       "      <td>Digital Marketing, Social Media</td>\n",
       "      <td>Marketing</td>\n",
       "      <td>Freelance</td>\n",
       "      <td>Toronto</td>\n",
       "      <td>70000.0</td>\n",
       "      <td>ABB</td>\n",
       "    </tr>\n",
       "  </tbody>\n",
       "</table>\n",
       "</div>"
      ],
      "text/plain": [
       "    user ID              Name   Age              Gender Academic Background  \\\n",
       "0  986206.0        John Smith  28.0  Male+D43B100D2:D55   Bachelor's degree   \n",
       "1  769632.0          Jane Doe  42.0              Female     Master's degree   \n",
       "2  981314.0         David Lee  35.0                Male   bachelor\"s degree   \n",
       "3  962892.0     Sarah Johnson  27.0              Female  Associate's degree   \n",
       "4  967782.0  Michael Williams  46.0                Male   Bachelor's degree   \n",
       "\n",
       "     Field of Study                                  Skills Industry_Interest  \\\n",
       "0  Computer Science           Java, Python, Data Structures        Technology   \n",
       "1          Business    Finance, Accounting, Microsoft Excel           Finance   \n",
       "2               NaN  Sales, Customer Service, Communication            Retail   \n",
       "3           Nursing       Patient Care, Medical Terminology        Healthcare   \n",
       "4         Marketing         Digital Marketing, Social Media         Marketing   \n",
       "\n",
       "  Job_Type_Interest Location_Interest  Salary_Expectation_(in_USD)  \\\n",
       "0         Full-time          New York                      65000.0   \n",
       "1          Contract            London                      85000.0   \n",
       "2         Part-time           Chicago                      30000.0   \n",
       "3         Full-time       Los Angeles                      45000.0   \n",
       "4         Freelance           Toronto                      70000.0   \n",
       "\n",
       "  desired_company  \n",
       "0           APPLE  \n",
       "1         SAMSUNG  \n",
       "2          GOOGLE  \n",
       "3      MERCK & CO  \n",
       "4             ABB  "
      ]
     },
     "execution_count": 6,
     "metadata": {},
     "output_type": "execute_result"
    }
   ],
   "source": [
    "job.head()"
   ]
  },
  {
   "cell_type": "code",
   "execution_count": 5,
   "id": "af1a4a7f",
   "metadata": {},
   "outputs": [],
   "source": [
    "job['desired_company'] = job['desired_company'].str.upper()"
   ]
  },
  {
   "cell_type": "code",
   "execution_count": 9,
   "id": "853c95d5",
   "metadata": {},
   "outputs": [],
   "source": [
    "job['desired_company'] = job['desired_company'].str.strip()"
   ]
  },
  {
   "cell_type": "code",
   "execution_count": 10,
   "id": "b1d8de28",
   "metadata": {},
   "outputs": [
    {
     "data": {
      "text/plain": [
       "(1092, 12)"
      ]
     },
     "execution_count": 10,
     "metadata": {},
     "output_type": "execute_result"
    }
   ],
   "source": [
    "job.shape"
   ]
  },
  {
   "cell_type": "code",
   "execution_count": 11,
   "id": "a514b3e5",
   "metadata": {},
   "outputs": [],
   "source": [
    "#Industry_Interest\n",
    "#Job_Type_Interest\n",
    "#Location_Interest\n",
    "#Salary_Expectation_(in USD)\n",
    "#desired company\n",
    "\n",
    "job = job[[\"Industry_Interest\", \"Job_Type_Interest\", \"Location_Interest\", \"Salary_Expectation_(in_USD)\", \"desired_company\"]]"
   ]
  },
  {
   "cell_type": "code",
   "execution_count": 12,
   "id": "6e19dd03",
   "metadata": {},
   "outputs": [
    {
     "name": "stdout",
     "output_type": "stream",
     "text": [
      "<class 'pandas.core.frame.DataFrame'>\n",
      "RangeIndex: 1092 entries, 0 to 1091\n",
      "Data columns (total 5 columns):\n",
      " #   Column                       Non-Null Count  Dtype  \n",
      "---  ------                       --------------  -----  \n",
      " 0   Industry_Interest            999 non-null    object \n",
      " 1   Job_Type_Interest            999 non-null    object \n",
      " 2   Location_Interest            994 non-null    object \n",
      " 3   Salary_Expectation_(in_USD)  999 non-null    float64\n",
      " 4   desired_company              999 non-null    object \n",
      "dtypes: float64(1), object(4)\n",
      "memory usage: 42.8+ KB\n"
     ]
    }
   ],
   "source": [
    "job.info()"
   ]
  },
  {
   "cell_type": "code",
   "execution_count": 13,
   "id": "8fcc4528",
   "metadata": {},
   "outputs": [
    {
     "data": {
      "text/plain": [
       "Industry_Interest              93\n",
       "Job_Type_Interest              93\n",
       "Location_Interest              98\n",
       "Salary_Expectation_(in_USD)    93\n",
       "desired_company                93\n",
       "dtype: int64"
      ]
     },
     "execution_count": 13,
     "metadata": {},
     "output_type": "execute_result"
    }
   ],
   "source": [
    "job.isnull().sum()"
   ]
  },
  {
   "cell_type": "code",
   "execution_count": 14,
   "id": "c299c711",
   "metadata": {},
   "outputs": [
    {
     "name": "stderr",
     "output_type": "stream",
     "text": [
      "C:\\Users\\Dumbs\\AppData\\Local\\Temp\\ipykernel_17944\\3734018937.py:1: SettingWithCopyWarning: \n",
      "A value is trying to be set on a copy of a slice from a DataFrame\n",
      "\n",
      "See the caveats in the documentation: https://pandas.pydata.org/pandas-docs/stable/user_guide/indexing.html#returning-a-view-versus-a-copy\n",
      "  job.dropna(inplace=True)\n"
     ]
    }
   ],
   "source": [
    "job.dropna(inplace=True)"
   ]
  },
  {
   "cell_type": "code",
   "execution_count": 15,
   "id": "088cc001",
   "metadata": {},
   "outputs": [
    {
     "data": {
      "text/html": [
       "<div>\n",
       "<style scoped>\n",
       "    .dataframe tbody tr th:only-of-type {\n",
       "        vertical-align: middle;\n",
       "    }\n",
       "\n",
       "    .dataframe tbody tr th {\n",
       "        vertical-align: top;\n",
       "    }\n",
       "\n",
       "    .dataframe thead th {\n",
       "        text-align: right;\n",
       "    }\n",
       "</style>\n",
       "<table border=\"1\" class=\"dataframe\">\n",
       "  <thead>\n",
       "    <tr style=\"text-align: right;\">\n",
       "      <th></th>\n",
       "      <th>Industry_Interest</th>\n",
       "      <th>Job_Type_Interest</th>\n",
       "      <th>Location_Interest</th>\n",
       "      <th>Salary_Expectation_(in_USD)</th>\n",
       "      <th>desired_company</th>\n",
       "    </tr>\n",
       "  </thead>\n",
       "  <tbody>\n",
       "    <tr>\n",
       "      <th>0</th>\n",
       "      <td>Technology</td>\n",
       "      <td>Full-time</td>\n",
       "      <td>New York</td>\n",
       "      <td>65000.0</td>\n",
       "      <td>APPLE</td>\n",
       "    </tr>\n",
       "    <tr>\n",
       "      <th>1</th>\n",
       "      <td>Finance</td>\n",
       "      <td>Contract</td>\n",
       "      <td>London</td>\n",
       "      <td>85000.0</td>\n",
       "      <td>SAMSUNG</td>\n",
       "    </tr>\n",
       "    <tr>\n",
       "      <th>2</th>\n",
       "      <td>Retail</td>\n",
       "      <td>Part-time</td>\n",
       "      <td>Chicago</td>\n",
       "      <td>30000.0</td>\n",
       "      <td>GOOGLE</td>\n",
       "    </tr>\n",
       "    <tr>\n",
       "      <th>3</th>\n",
       "      <td>Healthcare</td>\n",
       "      <td>Full-time</td>\n",
       "      <td>Los Angeles</td>\n",
       "      <td>45000.0</td>\n",
       "      <td>MERCK &amp; CO</td>\n",
       "    </tr>\n",
       "    <tr>\n",
       "      <th>4</th>\n",
       "      <td>Marketing</td>\n",
       "      <td>Freelance</td>\n",
       "      <td>Toronto</td>\n",
       "      <td>70000.0</td>\n",
       "      <td>ABB</td>\n",
       "    </tr>\n",
       "    <tr>\n",
       "      <th>...</th>\n",
       "      <td>...</td>\n",
       "      <td>...</td>\n",
       "      <td>...</td>\n",
       "      <td>...</td>\n",
       "      <td>...</td>\n",
       "    </tr>\n",
       "    <tr>\n",
       "      <th>994</th>\n",
       "      <td>Healthcare</td>\n",
       "      <td>Freelance</td>\n",
       "      <td>Cancun, Mexico</td>\n",
       "      <td>65000.0</td>\n",
       "      <td>BECHTEL CONSTRUCTION</td>\n",
       "    </tr>\n",
       "    <tr>\n",
       "      <th>995</th>\n",
       "      <td>Finance</td>\n",
       "      <td>Full-time</td>\n",
       "      <td>Tijuana, Mexico</td>\n",
       "      <td>85000.0</td>\n",
       "      <td>MERCK &amp; CO</td>\n",
       "    </tr>\n",
       "    <tr>\n",
       "      <th>996</th>\n",
       "      <td>Media</td>\n",
       "      <td>Full-time</td>\n",
       "      <td>Edmonton, Canada</td>\n",
       "      <td>30000.0</td>\n",
       "      <td>APPLE</td>\n",
       "    </tr>\n",
       "    <tr>\n",
       "      <th>997</th>\n",
       "      <td>Construction</td>\n",
       "      <td>Contract</td>\n",
       "      <td>Winnipeg, Canada</td>\n",
       "      <td>45000.0</td>\n",
       "      <td>SAMSUNG</td>\n",
       "    </tr>\n",
       "    <tr>\n",
       "      <th>998</th>\n",
       "      <td>Science</td>\n",
       "      <td>Part-time</td>\n",
       "      <td>Anchorage, USA</td>\n",
       "      <td>70000.0</td>\n",
       "      <td>GOOGLE</td>\n",
       "    </tr>\n",
       "  </tbody>\n",
       "</table>\n",
       "<p>994 rows × 5 columns</p>\n",
       "</div>"
      ],
      "text/plain": [
       "    Industry_Interest Job_Type_Interest  Location_Interest  \\\n",
       "0          Technology         Full-time           New York   \n",
       "1             Finance          Contract             London   \n",
       "2              Retail         Part-time            Chicago   \n",
       "3          Healthcare         Full-time        Los Angeles   \n",
       "4           Marketing         Freelance            Toronto   \n",
       "..                ...               ...                ...   \n",
       "994        Healthcare         Freelance     Cancun, Mexico   \n",
       "995           Finance         Full-time    Tijuana, Mexico   \n",
       "996             Media         Full-time   Edmonton, Canada   \n",
       "997      Construction          Contract   Winnipeg, Canada   \n",
       "998           Science         Part-time     Anchorage, USA   \n",
       "\n",
       "     Salary_Expectation_(in_USD)       desired_company  \n",
       "0                        65000.0                 APPLE  \n",
       "1                        85000.0               SAMSUNG  \n",
       "2                        30000.0                GOOGLE  \n",
       "3                        45000.0            MERCK & CO  \n",
       "4                        70000.0                   ABB  \n",
       "..                           ...                   ...  \n",
       "994                      65000.0  BECHTEL CONSTRUCTION  \n",
       "995                      85000.0            MERCK & CO  \n",
       "996                      30000.0                 APPLE  \n",
       "997                      45000.0               SAMSUNG  \n",
       "998                      70000.0                GOOGLE  \n",
       "\n",
       "[994 rows x 5 columns]"
      ]
     },
     "execution_count": 15,
     "metadata": {},
     "output_type": "execute_result"
    }
   ],
   "source": [
    "job"
   ]
  },
  {
   "cell_type": "code",
   "execution_count": 16,
   "id": "b4a21eab",
   "metadata": {},
   "outputs": [
    {
     "data": {
      "text/plain": [
       "3"
      ]
     },
     "execution_count": 16,
     "metadata": {},
     "output_type": "execute_result"
    }
   ],
   "source": [
    "job.duplicated().sum()"
   ]
  },
  {
   "cell_type": "code",
   "execution_count": 17,
   "id": "f3692111",
   "metadata": {},
   "outputs": [
    {
     "name": "stderr",
     "output_type": "stream",
     "text": [
      "C:\\Users\\Dumbs\\AppData\\Local\\Temp\\ipykernel_17944\\3444247751.py:1: SettingWithCopyWarning: \n",
      "A value is trying to be set on a copy of a slice from a DataFrame\n",
      "\n",
      "See the caveats in the documentation: https://pandas.pydata.org/pandas-docs/stable/user_guide/indexing.html#returning-a-view-versus-a-copy\n",
      "  job.drop_duplicates(inplace=True)\n"
     ]
    }
   ],
   "source": [
    "job.drop_duplicates(inplace=True)"
   ]
  },
  {
   "cell_type": "code",
   "execution_count": 18,
   "id": "36fb51c7",
   "metadata": {},
   "outputs": [
    {
     "data": {
      "text/plain": [
       "'Technology'"
      ]
     },
     "execution_count": 18,
     "metadata": {},
     "output_type": "execute_result"
    }
   ],
   "source": [
    "job.iloc[0].Industry_Interest"
   ]
  },
  {
   "cell_type": "code",
   "execution_count": 19,
   "id": "d1e7e8b4",
   "metadata": {},
   "outputs": [],
   "source": [
    "#job['Skills'] = job['Skills'].tolist()"
   ]
  },
  {
   "cell_type": "code",
   "execution_count": 20,
   "id": "7c915b18",
   "metadata": {},
   "outputs": [],
   "source": [
    "#type(job['Skills'])"
   ]
  },
  {
   "cell_type": "code",
   "execution_count": 21,
   "id": "9ef1e6f5",
   "metadata": {},
   "outputs": [],
   "source": [
    "#job.head()"
   ]
  },
  {
   "cell_type": "code",
   "execution_count": 22,
   "id": "23118fac",
   "metadata": {},
   "outputs": [
    {
     "name": "stderr",
     "output_type": "stream",
     "text": [
      "C:\\Users\\Dumbs\\AppData\\Local\\Temp\\ipykernel_17944\\3587730275.py:1: SettingWithCopyWarning: \n",
      "A value is trying to be set on a copy of a slice from a DataFrame.\n",
      "Try using .loc[row_indexer,col_indexer] = value instead\n",
      "\n",
      "See the caveats in the documentation: https://pandas.pydata.org/pandas-docs/stable/user_guide/indexing.html#returning-a-view-versus-a-copy\n",
      "  job['tags'] = job[\"Industry_Interest\"] + \", \" + job[\"Job_Type_Interest\"] + \", \" + job[\"Location_Interest\"]\n"
     ]
    }
   ],
   "source": [
    "job['tags'] = job[\"Industry_Interest\"] + \", \" + job[\"Job_Type_Interest\"] + \", \" + job[\"Location_Interest\"] "
   ]
  },
  {
   "cell_type": "code",
   "execution_count": 23,
   "id": "fe691986",
   "metadata": {},
   "outputs": [],
   "source": [
    "new_job = job[[\"Industry_Interest\", \"Job_Type_Interest\", \"Location_Interest\", \"Salary_Expectation_(in_USD)\", \"desired_company\", \"tags\"]]"
   ]
  },
  {
   "cell_type": "code",
   "execution_count": 24,
   "id": "36da2c9b",
   "metadata": {},
   "outputs": [
    {
     "data": {
      "text/html": [
       "<div>\n",
       "<style scoped>\n",
       "    .dataframe tbody tr th:only-of-type {\n",
       "        vertical-align: middle;\n",
       "    }\n",
       "\n",
       "    .dataframe tbody tr th {\n",
       "        vertical-align: top;\n",
       "    }\n",
       "\n",
       "    .dataframe thead th {\n",
       "        text-align: right;\n",
       "    }\n",
       "</style>\n",
       "<table border=\"1\" class=\"dataframe\">\n",
       "  <thead>\n",
       "    <tr style=\"text-align: right;\">\n",
       "      <th></th>\n",
       "      <th>Industry_Interest</th>\n",
       "      <th>Job_Type_Interest</th>\n",
       "      <th>Location_Interest</th>\n",
       "      <th>Salary_Expectation_(in_USD)</th>\n",
       "      <th>desired_company</th>\n",
       "      <th>tags</th>\n",
       "    </tr>\n",
       "  </thead>\n",
       "  <tbody>\n",
       "    <tr>\n",
       "      <th>0</th>\n",
       "      <td>Technology</td>\n",
       "      <td>Full-time</td>\n",
       "      <td>New York</td>\n",
       "      <td>65000.0</td>\n",
       "      <td>APPLE</td>\n",
       "      <td>Technology, Full-time, New York</td>\n",
       "    </tr>\n",
       "    <tr>\n",
       "      <th>1</th>\n",
       "      <td>Finance</td>\n",
       "      <td>Contract</td>\n",
       "      <td>London</td>\n",
       "      <td>85000.0</td>\n",
       "      <td>SAMSUNG</td>\n",
       "      <td>Finance, Contract, London</td>\n",
       "    </tr>\n",
       "    <tr>\n",
       "      <th>2</th>\n",
       "      <td>Retail</td>\n",
       "      <td>Part-time</td>\n",
       "      <td>Chicago</td>\n",
       "      <td>30000.0</td>\n",
       "      <td>GOOGLE</td>\n",
       "      <td>Retail, Part-time, Chicago</td>\n",
       "    </tr>\n",
       "    <tr>\n",
       "      <th>3</th>\n",
       "      <td>Healthcare</td>\n",
       "      <td>Full-time</td>\n",
       "      <td>Los Angeles</td>\n",
       "      <td>45000.0</td>\n",
       "      <td>MERCK &amp; CO</td>\n",
       "      <td>Healthcare, Full-time, Los Angeles</td>\n",
       "    </tr>\n",
       "    <tr>\n",
       "      <th>4</th>\n",
       "      <td>Marketing</td>\n",
       "      <td>Freelance</td>\n",
       "      <td>Toronto</td>\n",
       "      <td>70000.0</td>\n",
       "      <td>ABB</td>\n",
       "      <td>Marketing, Freelance, Toronto</td>\n",
       "    </tr>\n",
       "  </tbody>\n",
       "</table>\n",
       "</div>"
      ],
      "text/plain": [
       "  Industry_Interest Job_Type_Interest Location_Interest  \\\n",
       "0        Technology         Full-time          New York   \n",
       "1           Finance          Contract            London   \n",
       "2            Retail         Part-time           Chicago   \n",
       "3        Healthcare         Full-time       Los Angeles   \n",
       "4         Marketing         Freelance           Toronto   \n",
       "\n",
       "   Salary_Expectation_(in_USD) desired_company  \\\n",
       "0                      65000.0           APPLE   \n",
       "1                      85000.0         SAMSUNG   \n",
       "2                      30000.0          GOOGLE   \n",
       "3                      45000.0      MERCK & CO   \n",
       "4                      70000.0             ABB   \n",
       "\n",
       "                                 tags  \n",
       "0     Technology, Full-time, New York  \n",
       "1           Finance, Contract, London  \n",
       "2          Retail, Part-time, Chicago  \n",
       "3  Healthcare, Full-time, Los Angeles  \n",
       "4       Marketing, Freelance, Toronto  "
      ]
     },
     "execution_count": 24,
     "metadata": {},
     "output_type": "execute_result"
    }
   ],
   "source": [
    "new_job.head()"
   ]
  },
  {
   "cell_type": "code",
   "execution_count": 25,
   "id": "da54d831",
   "metadata": {},
   "outputs": [],
   "source": [
    "new_job['tags'] = new_job['tags'].apply(lambda x:x.lower())"
   ]
  },
  {
   "cell_type": "code",
   "execution_count": 26,
   "id": "fdaef512",
   "metadata": {},
   "outputs": [
    {
     "data": {
      "text/html": [
       "<div>\n",
       "<style scoped>\n",
       "    .dataframe tbody tr th:only-of-type {\n",
       "        vertical-align: middle;\n",
       "    }\n",
       "\n",
       "    .dataframe tbody tr th {\n",
       "        vertical-align: top;\n",
       "    }\n",
       "\n",
       "    .dataframe thead th {\n",
       "        text-align: right;\n",
       "    }\n",
       "</style>\n",
       "<table border=\"1\" class=\"dataframe\">\n",
       "  <thead>\n",
       "    <tr style=\"text-align: right;\">\n",
       "      <th></th>\n",
       "      <th>Industry_Interest</th>\n",
       "      <th>Job_Type_Interest</th>\n",
       "      <th>Location_Interest</th>\n",
       "      <th>Salary_Expectation_(in_USD)</th>\n",
       "      <th>desired_company</th>\n",
       "      <th>tags</th>\n",
       "    </tr>\n",
       "  </thead>\n",
       "  <tbody>\n",
       "    <tr>\n",
       "      <th>0</th>\n",
       "      <td>Technology</td>\n",
       "      <td>Full-time</td>\n",
       "      <td>New York</td>\n",
       "      <td>65000.0</td>\n",
       "      <td>APPLE</td>\n",
       "      <td>technology, full-time, new york</td>\n",
       "    </tr>\n",
       "    <tr>\n",
       "      <th>1</th>\n",
       "      <td>Finance</td>\n",
       "      <td>Contract</td>\n",
       "      <td>London</td>\n",
       "      <td>85000.0</td>\n",
       "      <td>SAMSUNG</td>\n",
       "      <td>finance, contract, london</td>\n",
       "    </tr>\n",
       "    <tr>\n",
       "      <th>2</th>\n",
       "      <td>Retail</td>\n",
       "      <td>Part-time</td>\n",
       "      <td>Chicago</td>\n",
       "      <td>30000.0</td>\n",
       "      <td>GOOGLE</td>\n",
       "      <td>retail, part-time, chicago</td>\n",
       "    </tr>\n",
       "    <tr>\n",
       "      <th>3</th>\n",
       "      <td>Healthcare</td>\n",
       "      <td>Full-time</td>\n",
       "      <td>Los Angeles</td>\n",
       "      <td>45000.0</td>\n",
       "      <td>MERCK &amp; CO</td>\n",
       "      <td>healthcare, full-time, los angeles</td>\n",
       "    </tr>\n",
       "    <tr>\n",
       "      <th>4</th>\n",
       "      <td>Marketing</td>\n",
       "      <td>Freelance</td>\n",
       "      <td>Toronto</td>\n",
       "      <td>70000.0</td>\n",
       "      <td>ABB</td>\n",
       "      <td>marketing, freelance, toronto</td>\n",
       "    </tr>\n",
       "  </tbody>\n",
       "</table>\n",
       "</div>"
      ],
      "text/plain": [
       "  Industry_Interest Job_Type_Interest Location_Interest  \\\n",
       "0        Technology         Full-time          New York   \n",
       "1           Finance          Contract            London   \n",
       "2            Retail         Part-time           Chicago   \n",
       "3        Healthcare         Full-time       Los Angeles   \n",
       "4         Marketing         Freelance           Toronto   \n",
       "\n",
       "   Salary_Expectation_(in_USD) desired_company  \\\n",
       "0                      65000.0           APPLE   \n",
       "1                      85000.0         SAMSUNG   \n",
       "2                      30000.0          GOOGLE   \n",
       "3                      45000.0      MERCK & CO   \n",
       "4                      70000.0             ABB   \n",
       "\n",
       "                                 tags  \n",
       "0     technology, full-time, new york  \n",
       "1           finance, contract, london  \n",
       "2          retail, part-time, chicago  \n",
       "3  healthcare, full-time, los angeles  \n",
       "4       marketing, freelance, toronto  "
      ]
     },
     "execution_count": 26,
     "metadata": {},
     "output_type": "execute_result"
    }
   ],
   "source": [
    "new_job.head()"
   ]
  },
  {
   "cell_type": "code",
   "execution_count": 28,
   "id": "b72e2f95",
   "metadata": {},
   "outputs": [],
   "source": [
    "import nltk"
   ]
  },
  {
   "cell_type": "code",
   "execution_count": 29,
   "id": "7db094c3",
   "metadata": {},
   "outputs": [],
   "source": [
    "from nltk.stem.porter import PorterStemmer"
   ]
  },
  {
   "cell_type": "code",
   "execution_count": 30,
   "id": "088d5350",
   "metadata": {},
   "outputs": [],
   "source": [
    "ps = PorterStemmer()"
   ]
  },
  {
   "cell_type": "code",
   "execution_count": 31,
   "id": "c0c30bc5",
   "metadata": {},
   "outputs": [],
   "source": [
    "def stem(text):\n",
    "    y = []\n",
    "    \n",
    "    for i in text.split():\n",
    "        y.append(ps.stem(i))\n",
    "        \n",
    "    return \" \".join(y)"
   ]
  },
  {
   "cell_type": "code",
   "execution_count": 32,
   "id": "df5ae1cb",
   "metadata": {},
   "outputs": [],
   "source": [
    "new_job['tags'] = new_job['tags'].apply(stem)"
   ]
  },
  {
   "cell_type": "code",
   "execution_count": 33,
   "id": "ffe9cd3a",
   "metadata": {},
   "outputs": [],
   "source": [
    "from sklearn.feature_extraction.text import CountVectorizer"
   ]
  },
  {
   "cell_type": "code",
   "execution_count": 34,
   "id": "9f61f75a",
   "metadata": {},
   "outputs": [],
   "source": [
    "cv = CountVectorizer(max_features=5000, stop_words='english')"
   ]
  },
  {
   "cell_type": "code",
   "execution_count": 35,
   "id": "a885b651",
   "metadata": {},
   "outputs": [],
   "source": [
    "vectors = cv.fit_transform(new_job['tags']).toarray()"
   ]
  },
  {
   "cell_type": "code",
   "execution_count": 36,
   "id": "daaa4318",
   "metadata": {},
   "outputs": [
    {
     "data": {
      "text/plain": [
       "array([0, 0, 0, 0, 0, 0, 0, 0, 0, 0, 0, 0, 0, 0, 0, 0, 0, 0, 0, 0, 0, 0,\n",
       "       0, 0, 0, 0, 0, 0, 0, 0, 0, 0, 0, 0, 0, 0, 0, 0, 0, 0, 0, 0, 0, 0,\n",
       "       0, 0, 0, 0, 0, 0, 0, 0, 0, 0, 0, 0, 0, 0, 0, 0, 0, 0, 0, 0, 0, 0,\n",
       "       0, 0, 0, 0, 0, 0, 0, 0, 0, 0, 0, 0, 0, 0, 0, 0, 0, 0, 0, 0, 0, 0,\n",
       "       0, 0, 0, 0, 0, 0, 0, 0, 0, 0, 0, 0, 0, 0, 0, 0, 0, 0, 0, 0, 0, 0,\n",
       "       0, 0, 0, 0, 0, 0, 0, 0, 0, 0, 0, 0, 0, 0, 0, 0, 0, 0, 1, 0, 0, 0,\n",
       "       0, 0, 0, 0, 0, 0, 0, 0, 0, 0, 0, 0, 0, 0, 0, 0, 0, 0, 0, 0, 0, 0,\n",
       "       0, 0, 0, 0, 0, 0, 0, 0, 0, 0, 0, 0, 0, 0, 0, 0, 0, 0, 0, 0, 0, 0,\n",
       "       0, 0, 0, 0, 0, 0, 0, 0, 0, 1, 0, 0, 1, 0, 0, 0, 0, 0, 0, 0, 0, 0,\n",
       "       0, 0, 0, 0, 1, 0, 0, 0, 0], dtype=int64)"
      ]
     },
     "execution_count": 36,
     "metadata": {},
     "output_type": "execute_result"
    }
   ],
   "source": [
    "vectors[0]"
   ]
  },
  {
   "cell_type": "code",
   "execution_count": 37,
   "id": "c9df3fad",
   "metadata": {},
   "outputs": [
    {
     "data": {
      "text/plain": [
       "array(['africa', 'agriculture', 'alberta', 'amsterdam', 'anchorage',\n",
       "       'angel', 'angeles', 'antonio', 'architecture', 'arizona', 'athens',\n",
       "       'atlanta', 'austin', 'austria', 'belgium', 'belgrade', 'berlin',\n",
       "       'bosnia', 'boston', 'bratislava', 'brazil', 'brussels',\n",
       "       'bucharest', 'budapest', 'bulgaria', 'business', 'calgary',\n",
       "       'california', 'canada', 'cancun', 'canterbury', 'cape', 'care',\n",
       "       'charlotte', 'chicago', 'china', 'city', 'cologne', 'colorado',\n",
       "       'columbus', 'construction', 'consulting', 'contract', 'copenhagen',\n",
       "       'creative', 'croatia', 'czech', 'dalla', 'dallas', 'dc', 'denmark',\n",
       "       'denver', 'design', 'diego', 'dresden', 'dublin', 'dubrovnik',\n",
       "       'eastern', 'edinburgh', 'edmonton', 'education', 'energy',\n",
       "       'engineering', 'environment', 'estonia', 'finance', 'finland',\n",
       "       'fintech', 'florida', 'franc', 'francisco', 'frankfurt',\n",
       "       'freelance', 'gdansk', 'geneva', 'georgia', 'germani', 'greec',\n",
       "       'guadalajara', 'hamburg', 'health', 'healthcare', 'helsinki',\n",
       "       'herzegovina', 'honolulu', 'hospitality', 'houston', 'hubei',\n",
       "       'hungari', 'iceland', 'india', 'indianapolis', 'industri',\n",
       "       'internship', 'ireland', 'itali', 'jose', 'kansa', 'kingdom',\n",
       "       'krakow', 'la', 'lake', 'latvia', 'lisbon', 'lithuania',\n",
       "       'ljubljana', 'lo', 'lombardy', 'london', 'louis', 'louisville',\n",
       "       'lyon', 'madrid', 'malaga', 'manufacturing', 'marketing',\n",
       "       'marseille', 'media', 'memphis', 'mexico', 'miami', 'michigan',\n",
       "       'monaco', 'montreal', 'moscow', 'munich', 'nashville',\n",
       "       'netherland', 'new', 'nigeria', 'norway', 'odisha', 'ogun', 'ohio',\n",
       "       'oklahoma', 'omaha', 'oregon', 'orleans', 'oslo', 'ottawa',\n",
       "       'pakistan', 'paris', 'paulo', 'petersburg', 'philadelphia',\n",
       "       'phoenix', 'pittsburgh', 'poland', 'portland', 'porto', 'portug',\n",
       "       'prague', 'quebec', 'raleigh', 'republ', 'retail', 'reykjavik',\n",
       "       'riga', 'romania', 'rome', 'russia', 'sacramento', 'saint', 'salt',\n",
       "       'salzburg', 'san', 'sao', 'sarajevo', 'sc', 'science', 'seattl',\n",
       "       'seattle', 'serbia', 'sindh', 'slovakia', 'slovenia', 'sofia',\n",
       "       'south', 'spain', 'st', 'stockholm', 'sweden', 'switzerland',\n",
       "       'tallinn', 'tampa', 'technology', 'texa', 'tijuana', 'time',\n",
       "       'toronto', 'transportation', 'unit', 'usa', 'valencia', 'vancouv',\n",
       "       'vancouver', 'vegas', 'vienna', 'vilnius', 'warsaw', 'washington',\n",
       "       'winnipeg', 'york', 'yucatan', 'zagreb', 'zealand', 'zurich'],\n",
       "      dtype=object)"
      ]
     },
     "execution_count": 37,
     "metadata": {},
     "output_type": "execute_result"
    }
   ],
   "source": [
    "cv.get_feature_names_out()"
   ]
  },
  {
   "cell_type": "code",
   "execution_count": 38,
   "id": "e7ddba2c",
   "metadata": {},
   "outputs": [],
   "source": [
    "from sklearn.metrics.pairwise import cosine_similarity"
   ]
  },
  {
   "cell_type": "code",
   "execution_count": 39,
   "id": "2575d0f8",
   "metadata": {},
   "outputs": [],
   "source": [
    "similarity = cosine_similarity(vectors)"
   ]
  },
  {
   "cell_type": "code",
   "execution_count": 40,
   "id": "8bcee5b6",
   "metadata": {},
   "outputs": [
    {
     "data": {
      "text/plain": [
       "array([1.        , 0.        , 0.28867513, 0.25      , 0.        ,\n",
       "       0.25      , 0.25      , 0.28867513, 0.        , 0.28867513,\n",
       "       0.75      , 0.57735027, 0.        , 0.25      , 0.25      ,\n",
       "       0.        , 0.28867513, 0.        , 0.25      , 0.        ,\n",
       "       0.28867513, 0.75      , 0.        , 0.28867513, 0.25      ,\n",
       "       0.        , 0.25      , 0.25      , 0.        , 0.        ,\n",
       "       0.28867513, 0.75      , 0.28867513, 0.        , 0.2236068 ,\n",
       "       0.        , 0.28867513, 1.        , 0.        , 0.28867513,\n",
       "       0.25      , 0.28867513, 0.        , 0.28867513, 0.28867513,\n",
       "       0.        , 1.        , 0.57735027, 0.28867513, 0.57735027,\n",
       "       0.57735027, 0.57735027, 0.        , 0.28867513, 0.57735027,\n",
       "       0.        , 0.25      , 0.25      , 0.        , 0.25      ,\n",
       "       0.20412415, 0.25      , 0.5       , 0.        , 0.25      ,\n",
       "       0.4472136 , 0.        , 0.2236068 , 0.25      , 0.        ,\n",
       "       0.25      , 0.        , 0.25      , 0.        , 0.25      ,\n",
       "       0.25      , 0.        , 0.25      , 0.25      , 0.        ,\n",
       "       0.25      , 0.25      , 0.        , 0.        , 0.25      ,\n",
       "       0.5       , 0.2236068 , 0.        , 0.2236068 , 0.        ,\n",
       "       0.25      , 0.25      , 0.25      , 0.25      , 0.25      ,\n",
       "       0.        , 0.25      , 0.25      , 0.2236068 , 0.25      ,\n",
       "       0.25      , 0.25      , 0.        , 0.25      , 0.25      ,\n",
       "       0.25      , 0.        , 0.25      , 0.25      , 0.        ,\n",
       "       0.25      , 0.25      , 0.        , 0.        , 0.25      ,\n",
       "       0.28867513, 0.61237244, 0.        , 0.25      , 0.25      ,\n",
       "       0.        , 0.25      , 0.1767767 , 0.        , 0.2236068 ,\n",
       "       0.2236068 , 0.25      , 0.        , 0.25      , 0.5       ,\n",
       "       0.        , 0.2236068 , 0.25      , 0.        , 0.5       ,\n",
       "       0.5       , 0.25      , 0.25      , 0.5       , 0.4472136 ,\n",
       "       0.25      , 0.        , 0.5       , 0.        , 0.25      ,\n",
       "       0.25      , 0.        , 0.5       , 0.25      , 0.        ,\n",
       "       0.2236068 , 0.20412415, 0.2236068 , 0.        , 0.2236068 ,\n",
       "       0.25      , 0.        , 0.25      , 0.4472136 , 0.2236068 ,\n",
       "       0.        , 0.25      , 0.25      , 0.        , 0.2236068 ,\n",
       "       0.2236068 , 0.5       , 0.28867513, 0.28867513, 0.25      ,\n",
       "       0.        , 0.25      , 0.5       , 0.        , 0.28867513,\n",
       "       0.28867513, 0.5       , 0.28867513, 0.        , 0.57735027,\n",
       "       0.5       , 0.28867513, 0.28867513, 0.25      , 0.28867513,\n",
       "       0.25      , 0.28867513, 0.25      , 0.28867513, 0.        ,\n",
       "       0.5       , 0.28867513, 0.28867513, 0.25      , 0.        ,\n",
       "       0.25      , 0.        , 0.28867513, 0.28867513, 0.        ,\n",
       "       0.75      , 0.28867513, 0.        , 0.        , 0.28867513,\n",
       "       0.28867513, 0.5       , 0.28867513, 0.28867513, 0.        ,\n",
       "       0.28867513, 0.25      , 0.57735027, 0.        , 0.28867513,\n",
       "       0.75      , 0.28867513, 0.28867513, 0.28867513, 0.        ,\n",
       "       0.        , 0.57735027, 0.57735027, 0.57735027, 0.28867513,\n",
       "       0.5       , 0.5       , 0.        , 0.25      , 0.40824829,\n",
       "       0.        , 0.25      , 0.        , 0.25      , 0.4472136 ,\n",
       "       0.25      , 0.2236068 , 0.25      , 0.25      , 0.25      ,\n",
       "       0.        , 0.25      , 0.25      , 0.        , 0.        ,\n",
       "       0.25      , 0.25      , 0.25      , 0.        , 0.25      ,\n",
       "       0.        , 0.25      , 0.25      , 0.        , 0.25      ,\n",
       "       0.2236068 , 0.        , 0.        , 0.25      , 0.25      ,\n",
       "       0.25      , 0.25      , 0.25      , 0.        , 0.2236068 ,\n",
       "       0.25      , 0.25      , 0.25      , 0.25      , 0.25      ,\n",
       "       0.        , 0.5       , 0.25      , 0.        , 0.25      ,\n",
       "       0.25      , 0.25      , 0.25      , 0.        , 0.25      ,\n",
       "       0.25      , 0.        , 0.2236068 , 0.25      , 0.        ,\n",
       "       0.61237244, 0.        , 0.25      , 0.        , 0.25      ,\n",
       "       0.25      , 0.        , 0.25      , 0.2236068 , 0.        ,\n",
       "       0.25      , 0.25      , 0.        , 0.        , 0.25      ,\n",
       "       0.4472136 , 0.25      , 0.        , 0.25      , 0.25      ,\n",
       "       0.25      , 0.25      , 0.        , 0.2236068 , 0.5       ,\n",
       "       0.25      , 0.25      , 0.5       , 0.5       , 0.25      ,\n",
       "       0.25      , 0.25      , 0.25      , 0.25      , 0.2236068 ,\n",
       "       0.20412415, 0.        , 0.5       , 0.2236068 , 0.        ,\n",
       "       0.5       , 0.25      , 0.2236068 , 0.        , 0.25      ,\n",
       "       0.25      , 0.25      , 0.        , 0.2236068 , 0.2236068 ,\n",
       "       0.75      , 0.28867513, 0.        , 0.25      , 0.        ,\n",
       "       0.25      , 0.        , 0.28867513, 0.28867513, 0.        ,\n",
       "       0.75      , 0.28867513, 0.25      , 0.28867513, 0.75      ,\n",
       "       0.        , 0.        , 0.25      , 0.28867513, 0.57735027,\n",
       "       0.        , 0.25      , 0.        , 0.57735027, 0.75      ,\n",
       "       0.        , 0.57735027, 0.25      , 0.        , 0.        ,\n",
       "       0.25      , 0.28867513, 0.        , 0.28867513, 0.75      ,\n",
       "       0.        , 0.28867513, 0.25      , 0.28867513, 0.        ,\n",
       "       0.75      , 0.28867513, 0.        , 0.25      , 0.28867513,\n",
       "       0.        , 0.        , 0.28867513, 0.28867513, 0.67082039,\n",
       "       0.        , 0.28867513, 0.57735027, 0.        , 0.28867513,\n",
       "       0.28867513, 0.28867513, 0.28867513, 0.        , 0.25      ,\n",
       "       0.        , 0.4472136 , 0.5       , 0.20412415, 0.5       ,\n",
       "       0.5       , 0.25      , 0.25      , 0.4472136 , 0.25      ,\n",
       "       0.        , 0.25      , 0.25      , 0.25      , 0.25      ,\n",
       "       0.25      , 0.        , 0.5       , 0.25      , 0.        ,\n",
       "       0.25      , 0.25      , 0.        , 0.        , 0.25      ,\n",
       "       0.25      , 0.        , 0.25      , 0.25      , 0.        ,\n",
       "       0.25      , 0.2236068 , 0.25      , 0.        , 0.25      ,\n",
       "       0.25      , 0.        , 0.25      , 0.2236068 , 0.        ,\n",
       "       0.25      , 0.25      , 0.25      , 0.25      , 0.        ,\n",
       "       0.25      , 0.25      , 0.25      , 0.25      , 0.25      ,\n",
       "       0.        , 0.5       , 0.        , 0.2236068 , 0.25      ,\n",
       "       0.25      , 0.2236068 , 0.        , 0.28867513, 0.61237244,\n",
       "       0.        , 0.25      , 0.25      , 0.        , 0.        ,\n",
       "       0.18898224, 0.25      , 0.2236068 , 0.        , 0.25      ,\n",
       "       0.        , 0.25      , 0.25      , 0.        , 0.2236068 ,\n",
       "       0.25      , 0.        , 0.        , 0.25      , 0.25      ,\n",
       "       0.25      , 0.25      , 0.2236068 , 0.        , 0.5       ,\n",
       "       0.25      , 0.25      , 0.        , 0.25      , 0.5       ,\n",
       "       0.25      , 0.5       , 0.5       , 0.2236068 , 0.20412415,\n",
       "       0.2236068 , 0.25      , 0.4472136 , 0.        , 0.25      ,\n",
       "       0.25      , 0.2236068 , 0.4472136 , 0.25      , 0.        ,\n",
       "       0.5       , 0.        , 0.2236068 , 0.        , 0.75      ,\n",
       "       0.        , 0.28867513, 0.25      , 0.        , 0.25      ,\n",
       "       0.25      , 0.        , 0.        , 0.28867513, 0.75      ,\n",
       "       0.28867513, 0.        , 0.28867513, 0.5       , 0.28867513,\n",
       "       0.28867513, 0.        , 0.57735027, 0.28867513, 0.        ,\n",
       "       0.        , 0.28867513, 0.28867513, 0.5       , 0.57735027,\n",
       "       0.28867513, 0.        , 0.28867513, 0.5       , 0.25      ,\n",
       "       0.        , 0.57735027, 0.28867513, 0.5       , 0.28867513,\n",
       "       0.28867513, 0.        , 0.        , 0.28867513, 0.75      ,\n",
       "       0.28867513, 0.        , 0.25      , 0.28867513, 0.        ,\n",
       "       0.28867513, 0.28867513, 0.        , 0.75      , 0.        ,\n",
       "       0.28867513, 0.        , 0.28867513, 0.28867513, 0.        ,\n",
       "       0.28867513, 0.28867513, 0.28867513, 0.25      , 0.25      ,\n",
       "       0.        , 0.25      , 0.20412415, 0.25      , 0.25      ,\n",
       "       0.        , 0.5       , 0.4472136 , 0.5       , 0.4472136 ,\n",
       "       0.25      , 0.5       , 0.25      , 0.        , 0.25      ,\n",
       "       0.25      , 0.25      , 0.        , 0.25      , 0.5       ,\n",
       "       0.        , 0.25      , 0.5       , 0.25      , 0.        ,\n",
       "       0.25      , 0.25      , 0.        , 0.2236068 , 0.25      ,\n",
       "       0.        , 0.        , 0.25      , 0.25      , 0.25      ,\n",
       "       0.        , 0.25      , 0.2236068 , 0.        , 0.25      ,\n",
       "       0.25      , 0.        , 0.25      , 0.        , 0.25      ,\n",
       "       0.25      , 0.25      , 0.25      , 0.        , 0.25      ,\n",
       "       0.25      , 0.        , 0.5       , 0.25      , 0.        ,\n",
       "       0.        , 0.5       , 0.28867513, 0.56694671, 0.2236068 ,\n",
       "       0.25      , 0.        , 0.25      , 0.25      , 0.        ,\n",
       "       0.25      , 0.2236068 , 0.        , 0.        , 0.25      ,\n",
       "       0.25      , 0.        , 0.25      , 0.2236068 , 0.        ,\n",
       "       0.25      , 0.25      , 0.25      , 0.        , 0.25      ,\n",
       "       0.25      , 0.        , 0.2236068 , 0.25      , 0.        ,\n",
       "       0.25      , 0.25      , 0.25      , 0.25      , 0.25      ,\n",
       "       0.25      , 0.25      , 0.        , 0.20412415, 0.4472136 ,\n",
       "       0.25      , 0.4472136 , 0.25      , 0.5       , 0.25      ,\n",
       "       0.4472136 , 0.2236068 , 0.25      , 0.25      , 0.25      ,\n",
       "       0.        , 0.2236068 , 0.4472136 , 0.5       , 0.57735027,\n",
       "       0.28867513, 0.25      , 0.        , 0.25      , 0.        ,\n",
       "       0.28867513, 0.28867513, 0.        , 0.75      , 0.28867513,\n",
       "       0.        , 0.        , 0.75      , 0.28867513, 0.        ,\n",
       "       0.25      , 0.28867513, 0.        , 0.28867513, 0.25      ,\n",
       "       0.28867513, 0.        , 1.        , 0.28867513, 0.        ,\n",
       "       0.25      , 0.28867513, 0.        , 0.        , 0.57735027,\n",
       "       0.28867513, 0.28867513, 0.5       , 0.57735027, 0.28867513,\n",
       "       0.        , 0.57735027, 0.28867513, 0.5       , 0.28867513,\n",
       "       0.        , 0.25      , 0.        , 0.25      , 0.28867513,\n",
       "       0.        , 0.28867513, 0.75      , 0.        , 0.28867513,\n",
       "       0.28867513, 0.        , 0.        , 0.28867513, 0.28867513,\n",
       "       0.28867513, 0.        , 0.25      , 0.        , 0.20412415,\n",
       "       0.25      , 0.        , 0.5       , 0.25      , 0.        ,\n",
       "       0.        , 0.67082039, 0.25      , 0.        , 0.25      ,\n",
       "       0.25      , 0.25      , 0.5       , 0.5       , 0.5       ,\n",
       "       0.25      , 0.5       , 0.25      , 0.        , 0.5       ,\n",
       "       0.25      , 0.        , 0.        , 0.25      , 0.5       ,\n",
       "       0.25      , 0.        , 0.4472136 , 0.25      , 0.        ,\n",
       "       0.25      , 0.25      , 0.        , 0.25      , 0.        ,\n",
       "       0.25      , 0.        , 0.25      , 0.25      , 0.        ,\n",
       "       0.25      , 0.25      , 0.        , 0.25      , 0.25      ,\n",
       "       0.        , 0.        , 0.25      , 0.25      , 0.25      ,\n",
       "       0.25      , 0.25      , 0.        , 0.25      , 0.2236068 ,\n",
       "       0.        , 0.28867513, 0.81649658, 0.        , 0.        ,\n",
       "       0.25      , 0.5       , 0.        , 0.1767767 , 0.5       ,\n",
       "       0.        , 0.2236068 , 0.25      , 0.25      , 0.        ,\n",
       "       0.25      , 0.25      , 0.        , 0.25      , 0.25      ,\n",
       "       0.        , 0.        , 0.25      , 0.25      , 0.25      ,\n",
       "       0.        , 0.25      , 0.25      , 0.        , 0.25      ,\n",
       "       0.25      , 0.        , 0.2236068 , 0.        , 0.25      ,\n",
       "       0.25      , 0.2236068 , 0.20412415, 0.        , 0.5       ,\n",
       "       0.2236068 , 0.        , 0.25      , 0.25      , 0.4472136 ,\n",
       "       0.2236068 , 0.5       , 0.5       , 0.5       , 0.25      ,\n",
       "       0.2236068 , 0.        , 0.75      , 0.        , 0.28867513,\n",
       "       0.25      , 0.28867513, 0.        , 0.25      , 0.57735027,\n",
       "       0.        , 0.28867513, 0.75      , 0.        , 0.25      ,\n",
       "       0.28867513, 0.75      , 0.        , 0.28867513, 0.25      ,\n",
       "       0.        , 0.28867513, 0.28867513, 0.        , 0.        ,\n",
       "       0.28867513, 0.75      , 0.28867513, 0.        , 0.25      ,\n",
       "       0.28867513, 0.        , 0.5       , 0.28867513, 0.        ,\n",
       "       0.28867513, 0.5       , 0.28867513, 0.        , 0.5       ,\n",
       "       0.28867513, 0.        , 0.75      , 0.57735027, 0.        ,\n",
       "       0.2236068 , 0.57735027, 0.        , 0.        , 0.28867513,\n",
       "       0.28867513, 0.75      , 0.        , 0.28867513, 0.        ,\n",
       "       0.28867513, 0.28867513, 0.        , 0.28867513, 0.28867513,\n",
       "       0.        , 0.        , 0.25      , 0.2236068 , 0.        ,\n",
       "       0.20412415, 0.25      , 0.        , 0.25      , 0.2236068 ,\n",
       "       0.4472136 , 0.        , 0.4472136 , 0.25      , 0.        ,\n",
       "       0.25      , 0.5       , 0.        , 0.        , 0.25      ,\n",
       "       0.25      , 0.5       , 0.25      , 0.5       , 0.5       ,\n",
       "       0.25      , 0.5       , 0.25      , 0.        , 0.5       ,\n",
       "       0.        , 0.2236068 , 0.        , 0.2236068 , 0.5       ,\n",
       "       0.        , 0.25      , 0.5       , 0.        , 0.25      ,\n",
       "       0.2236068 , 0.        , 0.        , 0.25      , 0.25      ,\n",
       "       0.25      , 0.        , 0.25      , 0.        , 0.25      ,\n",
       "       0.25      , 0.        , 0.25      , 0.25      , 0.        ,\n",
       "       0.        , 0.25      , 0.25      , 0.        , 0.25      ,\n",
       "       0.57735027, 0.40824829, 0.2236068 , 0.25      , 0.25      ,\n",
       "       0.        , 0.25      , 0.37796447, 0.        , 0.2236068 ,\n",
       "       0.2236068 , 0.25      , 0.        , 0.2236068 , 0.5       ,\n",
       "       0.25      , 0.        , 0.25      , 0.25      , 0.        ,\n",
       "       0.25      , 0.25      , 0.        , 0.25      , 0.        ,\n",
       "       0.25      , 0.        , 0.25      , 0.25      , 0.        ,\n",
       "       0.25      ])"
      ]
     },
     "execution_count": 40,
     "metadata": {},
     "output_type": "execute_result"
    }
   ],
   "source": [
    "similarity[0]"
   ]
  },
  {
   "cell_type": "code",
   "execution_count": 59,
   "id": "c04f8c3f",
   "metadata": {},
   "outputs": [],
   "source": [
    "import random"
   ]
  },
  {
   "cell_type": "code",
   "execution_count": 102,
   "id": "9c7f1976",
   "metadata": {},
   "outputs": [],
   "source": [
    "def recommend(indus, job, lo):\n",
    "    indus_index = new_job[new_job['Industry_Interest']== indus].index[0]\n",
    "    job_index = new_job[new_job['Job_Type_Interest']== job].index[0]\n",
    "    lo_index = new_job[new_job['Location_Interest']== lo].index[0]\n",
    "    distances1 = similarity[indus_index]\n",
    "    distances2 = similarity[job_index]\n",
    "    distances3 = similarity[lo_index]\n",
    "    tags_list = sorted(list(enumerate(distances1)), reverse=True, key=lambda x:x[1])[1:6] + sorted(list(enumerate(distances2)), reverse=True, key=lambda x:x[1])[1:6] + sorted(list(enumerate(distances3)), reverse=True, key=lambda x:x[1])[1:6]\n",
    "    #tags_list2 = sorted(list(enumerate(distances2)), reverse=True, key=lambda x:x[1])[1:6]\n",
    "    #tags_list3 = sorted(list(enumerate(distances3)), reverse=True, key=lambda x:x[1])[1:6]\n",
    "    \n",
    "    unique_list = []\n",
    "    \n",
    "    for x in tags_list:\n",
    "        if x not in unique_list:\n",
    "            unique_list.append(x)\n",
    "    \n",
    "    #tags_list = [tags_list1]\n",
    "    \n",
    "    #rl = []\n",
    "\n",
    "    for i in unique_list:\n",
    "        print(new_job.iloc[i[0]].desired_company)\n",
    "        #rl.append(new_job.iloc[i[0]].desired_company)\n",
    "        #print(random.choice(rl))"
   ]
  },
  {
   "cell_type": "code",
   "execution_count": 103,
   "id": "77e9587c",
   "metadata": {},
   "outputs": [
    {
     "name": "stdout",
     "output_type": "stream",
     "text": [
      "MERCK & CO\n",
      "INTEL\n",
      "ETSY INC\n",
      "ATLASSIAN CORPORATION PLC\n",
      "APPLE\n",
      "MERCK & CO\n",
      "APPLE\n",
      "BAE SYSTEMS\n",
      "CAPGEMINI\n",
      "ATOS\n"
     ]
    }
   ],
   "source": [
    "recommend(\"Technology\", \"Full-time\", \"Chicago\")"
   ]
  },
  {
   "cell_type": "code",
   "execution_count": 95,
   "id": "186c132f",
   "metadata": {},
   "outputs": [],
   "source": [
    "'''def recommend_on_(tags):\n",
    "    tags_index = new_job[new_job['Field_of_Study'] == tags].index[0]\n",
    "    distances = similarity[tags_index]\n",
    "    tags_list = sorted(list(enumerate(distances)), reverse=True, key=lambda x:x[1])[1:6]\n",
    "\n",
    "    for i in tags_list:\n",
    "        print(new_job.iloc[i[0]].desired_company)'''"
   ]
  },
  {
   "cell_type": "code",
   "execution_count": 96,
   "id": "f3e3db1b",
   "metadata": {},
   "outputs": [
    {
     "name": "stdout",
     "output_type": "stream",
     "text": [
      "oracle\n",
      "Microsoft\n",
      "samsung\n",
      "oracle\n",
      "Microsoft\n"
     ]
    }
   ],
   "source": [
    "#recommend_on_fs('Business')"
   ]
  },
  {
   "cell_type": "code",
   "execution_count": 80,
   "id": "c4e52bfa",
   "metadata": {},
   "outputs": [],
   "source": [
    "import pickle"
   ]
  },
  {
   "cell_type": "code",
   "execution_count": 81,
   "id": "81885703",
   "metadata": {},
   "outputs": [],
   "source": [
    "pickle.dump(new_job, open('job.pkl','wb'))"
   ]
  },
  {
   "cell_type": "code",
   "execution_count": null,
   "id": "a71b7615",
   "metadata": {},
   "outputs": [],
   "source": [
    "m"
   ]
  }
 ],
 "metadata": {
  "kernelspec": {
   "display_name": "Python 3 (ipykernel)",
   "language": "python",
   "name": "python3"
  },
  "language_info": {
   "codemirror_mode": {
    "name": "ipython",
    "version": 3
   },
   "file_extension": ".py",
   "mimetype": "text/x-python",
   "name": "python",
   "nbconvert_exporter": "python",
   "pygments_lexer": "ipython3",
   "version": "3.9.13"
  }
 },
 "nbformat": 4,
 "nbformat_minor": 5
}
